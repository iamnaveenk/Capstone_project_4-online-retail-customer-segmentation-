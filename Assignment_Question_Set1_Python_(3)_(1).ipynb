{
  "cells": [
    {
      "cell_type": "markdown",
      "metadata": {
        "id": "view-in-github",
        "colab_type": "text"
      },
      "source": [
        "<a href=\"https://colab.research.google.com/github/iamnaveenk/Capstone_project_4-online-retail-customer-segmentation-/blob/main/Assignment_Question_Set1_Python_(3)_(1).ipynb\" target=\"_parent\"><img src=\"https://colab.research.google.com/assets/colab-badge.svg\" alt=\"Open In Colab\"/></a>"
      ]
    },
    {
      "cell_type": "markdown",
      "id": "1bfab070",
      "metadata": {
        "id": "1bfab070"
      },
      "source": [
        "### Section 1:\n",
        "\n",
        "    Attempt all questions of this section\n",
        "    Answers to be written in the cell after the cell with the question (marked with #ANSWER comment)\n",
        "    Do not edit any cell marked with # DO NOT EDIT comment at the start\n",
        "    "
      ]
    },
    {
      "cell_type": "markdown",
      "id": "95eb548d",
      "metadata": {
        "id": "95eb548d"
      },
      "source": [
        "#### Q1. Counting the number of odd and even items in a list\n",
        "    \n",
        "    Steps:\n",
        "    1. Iterate throught the list of numbers given in lon\n",
        "    2. If the number is odd then increase the value of count_even by one, else increase the value of \n",
        "       count_odd by one"
      ]
    },
    {
      "cell_type": "markdown",
      "source": [
        " Considering ✈ If the number is even then increase the value of count_even by one , else increase the value of count_odd by one"
      ],
      "metadata": {
        "id": "7aroM3kpW6ag"
      },
      "id": "7aroM3kpW6ag"
    },
    {
      "cell_type": "code",
      "execution_count": null,
      "id": "0395629c",
      "metadata": {
        "id": "0395629c"
      },
      "outputs": [],
      "source": [
        "import numpy as np\n",
        "import pandas as pd"
      ]
    },
    {
      "cell_type": "code",
      "execution_count": null,
      "id": "d0ec3cfb",
      "metadata": {
        "id": "d0ec3cfb"
      },
      "outputs": [],
      "source": [
        "# DO NOT EDIT\n",
        "\n",
        "lon = [6,26,46,71,0,2,5,6,61,3,2,5,6,7,2,6,7,3,7,9,6,7,2,6,2]\n",
        "# this is a list of random integers\n",
        "\n",
        "count_even = 0 # variable to count even numbers\n",
        "count_odd = 0  # variable to count odd numbers"
      ]
    },
    {
      "cell_type": "code",
      "execution_count": null,
      "id": "f80ccd4a",
      "metadata": {
        "id": "f80ccd4a"
      },
      "outputs": [],
      "source": [
        "# ANSWER\n",
        "for i in lon:\n",
        "  if i%2==0:\n",
        "    count_even+=1\n",
        "  else:\n",
        "    count_odd+=1"
      ]
    },
    {
      "cell_type": "code",
      "execution_count": null,
      "id": "61cafe8a",
      "metadata": {
        "colab": {
          "base_uri": "https://localhost:8080/"
        },
        "id": "61cafe8a",
        "outputId": "6abb5c3f-45c7-49f6-9e28-194dd7d4ffad"
      },
      "outputs": [
        {
          "output_type": "stream",
          "name": "stdout",
          "text": [
            "Even numbers count: 14\n",
            "Odd numbers count: 11\n"
          ]
        }
      ],
      "source": [
        "# DO NOT EDIT\n",
        "\n",
        "print(\"Even numbers count: {}\".format(count_even))\n",
        "print(\"Odd numbers count: {}\".format(count_odd))"
      ]
    },
    {
      "cell_type": "markdown",
      "id": "958b13f0",
      "metadata": {
        "id": "958b13f0"
      },
      "source": [
        "#### Q2. Editing items in a list\n",
        "    \n",
        "    Steps:\n",
        "    1. Iterate throught the list of numbers given in lon\n",
        "    2. If the number is even then increase the value of the next element in the list by one\n",
        "    3. If the number if odd then don't do anything.\n",
        "    \n",
        "    Example\n",
        "    The first element in the list is 6, so we have to increase the next element i.e 26 by 1.\n",
        "    The second element should be changed to 26 + 1 = 27.\n",
        "    In the second iteration the number is 27 (as it is changed now) so no change to be done in the\n",
        "    list\n",
        "    Continue with the remaining numbers in the list.\n",
        "    \n",
        "    Hint: Use enumerate or range functions to track index and value at the same time\n",
        "    \n",
        "    "
      ]
    },
    {
      "cell_type": "code",
      "execution_count": null,
      "id": "d2321f16",
      "metadata": {
        "colab": {
          "base_uri": "https://localhost:8080/"
        },
        "id": "d2321f16",
        "outputId": "1c2afd55-fb66-4a6f-ee9b-9e89752fbcb4"
      },
      "outputs": [
        {
          "output_type": "stream",
          "name": "stdout",
          "text": [
            "[6, 27, 46, 72, 1, 2, 6, 7, 61, 3, 2, 6, 7, 7, 2, 7, 7, 3, 7, 9, 6, 8, 3, 6, 3]\n"
          ]
        }
      ],
      "source": [
        "# ANSWER\n",
        "for i in range(len(lon)):\n",
        "  if lon[i]%2==0:\n",
        "    lon[i+1]+=1\n",
        "print(lon)"
      ]
    },
    {
      "cell_type": "code",
      "execution_count": null,
      "id": "a22a67a7",
      "metadata": {
        "colab": {
          "base_uri": "https://localhost:8080/"
        },
        "id": "a22a67a7",
        "outputId": "c74c188c-a5ba-494c-f660-1bc536a05d51"
      },
      "outputs": [
        {
          "output_type": "stream",
          "name": "stdout",
          "text": [
            "False\n"
          ]
        }
      ],
      "source": [
        "# DO NOT EDIT\n",
        "\n",
        "print(lon == [6,26,46,71,0,2,5,6,61,3,2,5,6,7,2,6,7,3,7,9,6,7,2,6,2])"
      ]
    },
    {
      "cell_type": "markdown",
      "id": "dd2d119f",
      "metadata": {
        "id": "dd2d119f"
      },
      "source": [
        "#### Q3.  Writing a function to calculate the distance between two points\n",
        "\n",
        "    Consider two points on the x-y plane [x0, y0] and [x1, y1]\n",
        "    The distance between two points is given by the euclidean distance\n",
        "    \n",
        "\\begin{align*}\n",
        "distance &= \\sqrt{(x1 - x0)^2\\! +(y1 - y0)^2\\!}\n",
        "\\end{align*}\n",
        "\n",
        "    Steps:\n",
        "    1. Edit the function distance written in the next cell\n",
        "    2. a and b are two lists with x and y coordinates\n",
        "    3. Example a = [1,1] and b = [2.5,0]\n",
        "    4. Store the calculated distance in the variable distance"
      ]
    },
    {
      "cell_type": "code",
      "execution_count": null,
      "id": "d404209e",
      "metadata": {
        "id": "d404209e"
      },
      "outputs": [],
      "source": [
        "# ANSWER\n",
        "import math \n",
        "def distance(a, b):\n",
        "    # write your code here\n",
        "    distance = math.sqrt( ((b[0]-a[0])**2)+((b[1]-a[1])**2) )\n",
        "    return distance"
      ]
    },
    {
      "cell_type": "code",
      "execution_count": null,
      "id": "ccfb9676",
      "metadata": {
        "colab": {
          "base_uri": "https://localhost:8080/"
        },
        "id": "ccfb9676",
        "outputId": "194526d4-3357-4c99-b427-245d19619d4e"
      },
      "outputs": [
        {
          "output_type": "stream",
          "name": "stdout",
          "text": [
            "1.4142135623730951\n"
          ]
        }
      ],
      "source": [
        "# DO NOT EDIT\n",
        "print(distance([0,0], [1,1]))"
      ]
    },
    {
      "cell_type": "markdown",
      "id": "67dff146",
      "metadata": {
        "id": "67dff146"
      },
      "source": [
        "#### Q4 Finding the nearest point to [0,0]\n",
        "\n",
        "    Steps:\n",
        "    from the ten points (x,y cordinates are considered as one point), calculate the distances\n",
        "    for each point from [0, 0]. Print the the points nearest to [0,0]"
      ]
    },
    {
      "cell_type": "code",
      "execution_count": null,
      "id": "978271e4",
      "metadata": {
        "id": "978271e4"
      },
      "outputs": [],
      "source": [
        "# DO NOT EDIT\n",
        "\n",
        "points = [[0.26124953, 0.65709475],\n",
        "          [0.13592751, 0.57147712],\n",
        "          [0.3289748 , 0.12776297],\n",
        "          [0.80833177, 0.67241004],\n",
        "          [0.99802025, 0.94917782],\n",
        "          [0.74073727, 0.18226178],\n",
        "          [0.38854961, 0.81627411],\n",
        "          [0.60282049, 0.04726195],\n",
        "          [0.07190173, 0.6739353 ],\n",
        "          [0.05232909, 0.78875172]]"
      ]
    },
    {
      "cell_type": "code",
      "source": [
        "from math import sqrt\n",
        "nearest_point = points[0]\n",
        "nearest_distance = sqrt(points[0][0]**2 + points[0][1]**2)\n",
        "\n",
        "for point in points:\n",
        "  distance = sqrt(point[0]**2 + point[1]**2)\n",
        "if distance < nearest_distance:\n",
        "  nearest_point = point\n",
        "  nearest_distance = distance"
      ],
      "metadata": {
        "id": "eKLIzfR9fP1q"
      },
      "id": "eKLIzfR9fP1q",
      "execution_count": null,
      "outputs": []
    },
    {
      "cell_type": "code",
      "execution_count": null,
      "id": "4f35a3eb",
      "metadata": {
        "colab": {
          "base_uri": "https://localhost:8080/"
        },
        "id": "4f35a3eb",
        "outputId": "0ddd70d0-f7d6-4a62-938c-80d298049dd2"
      },
      "outputs": [
        {
          "output_type": "stream",
          "name": "stdout",
          "text": [
            "The nearest point to [0,0] is [0.26124953, 0.65709475]\n"
          ]
        }
      ],
      "source": [
        "#ANSWER\n",
        "print(\"The nearest point to [0,0] is\", nearest_point)"
      ]
    },
    {
      "cell_type": "markdown",
      "id": "cd095213",
      "metadata": {
        "id": "cd095213"
      },
      "source": [
        "### Section 2 - Pandas:\n",
        "\n",
        "    Attempt all questions of this section\n",
        "    Answers to be written in the cell after the cell with the question (marked with #answer comment)\n",
        "    Do not edit any cell marked with # DO NOT EDIT comment at the start"
      ]
    },
    {
      "cell_type": "markdown",
      "id": "16d5e740",
      "metadata": {
        "id": "16d5e740"
      },
      "source": [
        "#### Q1 . Creating a pandas dataframe from dictionary\n",
        "\n",
        "    Convert the dictionary data into a pandas dataframe df"
      ]
    },
    {
      "cell_type": "code",
      "execution_count": null,
      "id": "e3503d99",
      "metadata": {
        "id": "e3503d99"
      },
      "outputs": [],
      "source": [
        "# DO NOT EDIT\n",
        "data = {'class_name': ['A', 'B', 'C', 'A', 'A', 'C', 'B', 'C', 'A', 'B']*3,\n",
        "        'student_id': [i for i in range(1,31)],\n",
        "        'marks': [100*np.random.rand() for i in range(1, 31)]}"
      ]
    },
    {
      "cell_type": "code",
      "execution_count": null,
      "id": "b3532483",
      "metadata": {
        "id": "b3532483"
      },
      "outputs": [],
      "source": [
        "# ANSWER\n",
        "import pandas as pd\n",
        "\n",
        "\n",
        "# df = "
      ]
    },
    {
      "cell_type": "code",
      "execution_count": null,
      "id": "e44ad18e",
      "metadata": {
        "colab": {
          "base_uri": "https://localhost:8080/",
          "height": 990
        },
        "id": "e44ad18e",
        "outputId": "ea5accb7-ef4d-44e8-df05-3270c23c7efc"
      },
      "outputs": [
        {
          "output_type": "execute_result",
          "data": {
            "text/plain": [
              "   class_name  student_id      marks\n",
              "0           A           1   4.703257\n",
              "1           B           2  40.022035\n",
              "2           C           3  51.546118\n",
              "3           A           4  34.995822\n",
              "4           A           5  83.710219\n",
              "5           C           6  15.224088\n",
              "6           B           7  47.451347\n",
              "7           C           8  58.194705\n",
              "8           A           9  49.225354\n",
              "9           B          10  72.148317\n",
              "10          A          11  32.577615\n",
              "11          B          12  27.534712\n",
              "12          C          13  30.982914\n",
              "13          A          14   9.485679\n",
              "14          A          15  28.826065\n",
              "15          C          16  64.054738\n",
              "16          B          17  87.243613\n",
              "17          C          18  38.503217\n",
              "18          A          19  65.675824\n",
              "19          B          20   0.751991\n",
              "20          A          21  67.454249\n",
              "21          B          22  42.284945\n",
              "22          C          23  34.081449\n",
              "23          A          24  81.884313\n",
              "24          A          25  17.827182\n",
              "25          C          26  89.049273\n",
              "26          B          27  42.721482\n",
              "27          C          28   0.665225\n",
              "28          A          29   5.915812\n",
              "29          B          30  29.710224"
            ],
            "text/html": [
              "\n",
              "  <div id=\"df-afe94f3b-165e-495d-9033-87deae0a1037\">\n",
              "    <div class=\"colab-df-container\">\n",
              "      <div>\n",
              "<style scoped>\n",
              "    .dataframe tbody tr th:only-of-type {\n",
              "        vertical-align: middle;\n",
              "    }\n",
              "\n",
              "    .dataframe tbody tr th {\n",
              "        vertical-align: top;\n",
              "    }\n",
              "\n",
              "    .dataframe thead th {\n",
              "        text-align: right;\n",
              "    }\n",
              "</style>\n",
              "<table border=\"1\" class=\"dataframe\">\n",
              "  <thead>\n",
              "    <tr style=\"text-align: right;\">\n",
              "      <th></th>\n",
              "      <th>class_name</th>\n",
              "      <th>student_id</th>\n",
              "      <th>marks</th>\n",
              "    </tr>\n",
              "  </thead>\n",
              "  <tbody>\n",
              "    <tr>\n",
              "      <th>0</th>\n",
              "      <td>A</td>\n",
              "      <td>1</td>\n",
              "      <td>4.703257</td>\n",
              "    </tr>\n",
              "    <tr>\n",
              "      <th>1</th>\n",
              "      <td>B</td>\n",
              "      <td>2</td>\n",
              "      <td>40.022035</td>\n",
              "    </tr>\n",
              "    <tr>\n",
              "      <th>2</th>\n",
              "      <td>C</td>\n",
              "      <td>3</td>\n",
              "      <td>51.546118</td>\n",
              "    </tr>\n",
              "    <tr>\n",
              "      <th>3</th>\n",
              "      <td>A</td>\n",
              "      <td>4</td>\n",
              "      <td>34.995822</td>\n",
              "    </tr>\n",
              "    <tr>\n",
              "      <th>4</th>\n",
              "      <td>A</td>\n",
              "      <td>5</td>\n",
              "      <td>83.710219</td>\n",
              "    </tr>\n",
              "    <tr>\n",
              "      <th>5</th>\n",
              "      <td>C</td>\n",
              "      <td>6</td>\n",
              "      <td>15.224088</td>\n",
              "    </tr>\n",
              "    <tr>\n",
              "      <th>6</th>\n",
              "      <td>B</td>\n",
              "      <td>7</td>\n",
              "      <td>47.451347</td>\n",
              "    </tr>\n",
              "    <tr>\n",
              "      <th>7</th>\n",
              "      <td>C</td>\n",
              "      <td>8</td>\n",
              "      <td>58.194705</td>\n",
              "    </tr>\n",
              "    <tr>\n",
              "      <th>8</th>\n",
              "      <td>A</td>\n",
              "      <td>9</td>\n",
              "      <td>49.225354</td>\n",
              "    </tr>\n",
              "    <tr>\n",
              "      <th>9</th>\n",
              "      <td>B</td>\n",
              "      <td>10</td>\n",
              "      <td>72.148317</td>\n",
              "    </tr>\n",
              "    <tr>\n",
              "      <th>10</th>\n",
              "      <td>A</td>\n",
              "      <td>11</td>\n",
              "      <td>32.577615</td>\n",
              "    </tr>\n",
              "    <tr>\n",
              "      <th>11</th>\n",
              "      <td>B</td>\n",
              "      <td>12</td>\n",
              "      <td>27.534712</td>\n",
              "    </tr>\n",
              "    <tr>\n",
              "      <th>12</th>\n",
              "      <td>C</td>\n",
              "      <td>13</td>\n",
              "      <td>30.982914</td>\n",
              "    </tr>\n",
              "    <tr>\n",
              "      <th>13</th>\n",
              "      <td>A</td>\n",
              "      <td>14</td>\n",
              "      <td>9.485679</td>\n",
              "    </tr>\n",
              "    <tr>\n",
              "      <th>14</th>\n",
              "      <td>A</td>\n",
              "      <td>15</td>\n",
              "      <td>28.826065</td>\n",
              "    </tr>\n",
              "    <tr>\n",
              "      <th>15</th>\n",
              "      <td>C</td>\n",
              "      <td>16</td>\n",
              "      <td>64.054738</td>\n",
              "    </tr>\n",
              "    <tr>\n",
              "      <th>16</th>\n",
              "      <td>B</td>\n",
              "      <td>17</td>\n",
              "      <td>87.243613</td>\n",
              "    </tr>\n",
              "    <tr>\n",
              "      <th>17</th>\n",
              "      <td>C</td>\n",
              "      <td>18</td>\n",
              "      <td>38.503217</td>\n",
              "    </tr>\n",
              "    <tr>\n",
              "      <th>18</th>\n",
              "      <td>A</td>\n",
              "      <td>19</td>\n",
              "      <td>65.675824</td>\n",
              "    </tr>\n",
              "    <tr>\n",
              "      <th>19</th>\n",
              "      <td>B</td>\n",
              "      <td>20</td>\n",
              "      <td>0.751991</td>\n",
              "    </tr>\n",
              "    <tr>\n",
              "      <th>20</th>\n",
              "      <td>A</td>\n",
              "      <td>21</td>\n",
              "      <td>67.454249</td>\n",
              "    </tr>\n",
              "    <tr>\n",
              "      <th>21</th>\n",
              "      <td>B</td>\n",
              "      <td>22</td>\n",
              "      <td>42.284945</td>\n",
              "    </tr>\n",
              "    <tr>\n",
              "      <th>22</th>\n",
              "      <td>C</td>\n",
              "      <td>23</td>\n",
              "      <td>34.081449</td>\n",
              "    </tr>\n",
              "    <tr>\n",
              "      <th>23</th>\n",
              "      <td>A</td>\n",
              "      <td>24</td>\n",
              "      <td>81.884313</td>\n",
              "    </tr>\n",
              "    <tr>\n",
              "      <th>24</th>\n",
              "      <td>A</td>\n",
              "      <td>25</td>\n",
              "      <td>17.827182</td>\n",
              "    </tr>\n",
              "    <tr>\n",
              "      <th>25</th>\n",
              "      <td>C</td>\n",
              "      <td>26</td>\n",
              "      <td>89.049273</td>\n",
              "    </tr>\n",
              "    <tr>\n",
              "      <th>26</th>\n",
              "      <td>B</td>\n",
              "      <td>27</td>\n",
              "      <td>42.721482</td>\n",
              "    </tr>\n",
              "    <tr>\n",
              "      <th>27</th>\n",
              "      <td>C</td>\n",
              "      <td>28</td>\n",
              "      <td>0.665225</td>\n",
              "    </tr>\n",
              "    <tr>\n",
              "      <th>28</th>\n",
              "      <td>A</td>\n",
              "      <td>29</td>\n",
              "      <td>5.915812</td>\n",
              "    </tr>\n",
              "    <tr>\n",
              "      <th>29</th>\n",
              "      <td>B</td>\n",
              "      <td>30</td>\n",
              "      <td>29.710224</td>\n",
              "    </tr>\n",
              "  </tbody>\n",
              "</table>\n",
              "</div>\n",
              "      <button class=\"colab-df-convert\" onclick=\"convertToInteractive('df-afe94f3b-165e-495d-9033-87deae0a1037')\"\n",
              "              title=\"Convert this dataframe to an interactive table.\"\n",
              "              style=\"display:none;\">\n",
              "        \n",
              "  <svg xmlns=\"http://www.w3.org/2000/svg\" height=\"24px\"viewBox=\"0 0 24 24\"\n",
              "       width=\"24px\">\n",
              "    <path d=\"M0 0h24v24H0V0z\" fill=\"none\"/>\n",
              "    <path d=\"M18.56 5.44l.94 2.06.94-2.06 2.06-.94-2.06-.94-.94-2.06-.94 2.06-2.06.94zm-11 1L8.5 8.5l.94-2.06 2.06-.94-2.06-.94L8.5 2.5l-.94 2.06-2.06.94zm10 10l.94 2.06.94-2.06 2.06-.94-2.06-.94-.94-2.06-.94 2.06-2.06.94z\"/><path d=\"M17.41 7.96l-1.37-1.37c-.4-.4-.92-.59-1.43-.59-.52 0-1.04.2-1.43.59L10.3 9.45l-7.72 7.72c-.78.78-.78 2.05 0 2.83L4 21.41c.39.39.9.59 1.41.59.51 0 1.02-.2 1.41-.59l7.78-7.78 2.81-2.81c.8-.78.8-2.07 0-2.86zM5.41 20L4 18.59l7.72-7.72 1.47 1.35L5.41 20z\"/>\n",
              "  </svg>\n",
              "      </button>\n",
              "      \n",
              "  <style>\n",
              "    .colab-df-container {\n",
              "      display:flex;\n",
              "      flex-wrap:wrap;\n",
              "      gap: 12px;\n",
              "    }\n",
              "\n",
              "    .colab-df-convert {\n",
              "      background-color: #E8F0FE;\n",
              "      border: none;\n",
              "      border-radius: 50%;\n",
              "      cursor: pointer;\n",
              "      display: none;\n",
              "      fill: #1967D2;\n",
              "      height: 32px;\n",
              "      padding: 0 0 0 0;\n",
              "      width: 32px;\n",
              "    }\n",
              "\n",
              "    .colab-df-convert:hover {\n",
              "      background-color: #E2EBFA;\n",
              "      box-shadow: 0px 1px 2px rgba(60, 64, 67, 0.3), 0px 1px 3px 1px rgba(60, 64, 67, 0.15);\n",
              "      fill: #174EA6;\n",
              "    }\n",
              "\n",
              "    [theme=dark] .colab-df-convert {\n",
              "      background-color: #3B4455;\n",
              "      fill: #D2E3FC;\n",
              "    }\n",
              "\n",
              "    [theme=dark] .colab-df-convert:hover {\n",
              "      background-color: #434B5C;\n",
              "      box-shadow: 0px 1px 3px 1px rgba(0, 0, 0, 0.15);\n",
              "      filter: drop-shadow(0px 1px 2px rgba(0, 0, 0, 0.3));\n",
              "      fill: #FFFFFF;\n",
              "    }\n",
              "  </style>\n",
              "\n",
              "      <script>\n",
              "        const buttonEl =\n",
              "          document.querySelector('#df-afe94f3b-165e-495d-9033-87deae0a1037 button.colab-df-convert');\n",
              "        buttonEl.style.display =\n",
              "          google.colab.kernel.accessAllowed ? 'block' : 'none';\n",
              "\n",
              "        async function convertToInteractive(key) {\n",
              "          const element = document.querySelector('#df-afe94f3b-165e-495d-9033-87deae0a1037');\n",
              "          const dataTable =\n",
              "            await google.colab.kernel.invokeFunction('convertToInteractive',\n",
              "                                                     [key], {});\n",
              "          if (!dataTable) return;\n",
              "\n",
              "          const docLinkHtml = 'Like what you see? Visit the ' +\n",
              "            '<a target=\"_blank\" href=https://colab.research.google.com/notebooks/data_table.ipynb>data table notebook</a>'\n",
              "            + ' to learn more about interactive tables.';\n",
              "          element.innerHTML = '';\n",
              "          dataTable['output_type'] = 'display_data';\n",
              "          await google.colab.output.renderOutput(dataTable, element);\n",
              "          const docLink = document.createElement('div');\n",
              "          docLink.innerHTML = docLinkHtml;\n",
              "          element.appendChild(docLink);\n",
              "        }\n",
              "      </script>\n",
              "    </div>\n",
              "  </div>\n",
              "  "
            ]
          },
          "metadata": {},
          "execution_count": 14
        }
      ],
      "source": [
        "df = pd.DataFrame(data)\n",
        "df"
      ]
    },
    {
      "cell_type": "markdown",
      "id": "df032faa",
      "metadata": {
        "id": "df032faa"
      },
      "source": [
        "#### Q2. Filter all rows in dataframe df where class_name = 'A'"
      ]
    },
    {
      "cell_type": "code",
      "execution_count": null,
      "id": "65178ee6",
      "metadata": {
        "colab": {
          "base_uri": "https://localhost:8080/"
        },
        "id": "65178ee6",
        "outputId": "90408e5e-0c48-45a6-e15c-b5912ee72025"
      },
      "outputs": [
        {
          "output_type": "stream",
          "name": "stdout",
          "text": [
            "   class_name  student_id      marks\n",
            "0           A           1   4.703257\n",
            "3           A           4  34.995822\n",
            "4           A           5  83.710219\n",
            "8           A           9  49.225354\n",
            "10          A          11  32.577615\n",
            "13          A          14   9.485679\n",
            "14          A          15  28.826065\n",
            "18          A          19  65.675824\n",
            "20          A          21  67.454249\n",
            "23          A          24  81.884313\n",
            "24          A          25  17.827182\n",
            "28          A          29   5.915812\n"
          ]
        }
      ],
      "source": [
        "# ANSWER\n",
        "filtered_df = df[df['class_name'] == 'A']\n",
        "print(filtered_df)"
      ]
    },
    {
      "cell_type": "markdown",
      "id": "78bdca77",
      "metadata": {
        "id": "78bdca77"
      },
      "source": [
        "#### Q3. Filter all rows in the dataframe df where class_name = 'B' and marks is greater than 50"
      ]
    },
    {
      "cell_type": "code",
      "execution_count": null,
      "id": "22cccbe0",
      "metadata": {
        "colab": {
          "base_uri": "https://localhost:8080/"
        },
        "id": "22cccbe0",
        "outputId": "2bfd1925-d193-4d5a-a107-29429b4d913b"
      },
      "outputs": [
        {
          "output_type": "stream",
          "name": "stdout",
          "text": [
            "   class_name  student_id      marks\n",
            "9           B          10  72.148317\n",
            "16          B          17  87.243613\n"
          ]
        }
      ],
      "source": [
        "# ANSWER\n",
        "df_class_b = df[(df['class_name'] == 'B') & (df['marks'] > 50)]\n",
        "print(df_class_b)"
      ]
    },
    {
      "cell_type": "markdown",
      "id": "f9f5356f",
      "metadata": {
        "id": "f9f5356f"
      },
      "source": [
        "#### Q4. Which student got the highest marks amongst all the students"
      ]
    },
    {
      "cell_type": "code",
      "execution_count": null,
      "id": "90c08205",
      "metadata": {
        "colab": {
          "base_uri": "https://localhost:8080/"
        },
        "id": "90c08205",
        "outputId": "99b7a84c-8832-4dc0-fb2c-ef299606dcc1"
      },
      "outputs": [
        {
          "output_type": "stream",
          "name": "stdout",
          "text": [
            "The student with the highest marks is student 26\n"
          ]
        }
      ],
      "source": [
        "# ANSWER\n",
        "max_marks = df['marks'].max()\n",
        "student_id = df[df['marks'] == max_marks]['student_id'].values[0]\n",
        "print(\"The student with the highest marks is student\", student_id)"
      ]
    },
    {
      "cell_type": "markdown",
      "id": "ac5a820d",
      "metadata": {
        "id": "ac5a820d"
      },
      "source": [
        "#### Q5. Find the highest scoring student in each class"
      ]
    },
    {
      "cell_type": "code",
      "execution_count": null,
      "id": "467a1022",
      "metadata": {
        "colab": {
          "base_uri": "https://localhost:8080/"
        },
        "id": "467a1022",
        "outputId": "acd6f79c-2f12-4e58-c001-711df090ea7e"
      },
      "outputs": [
        {
          "output_type": "execute_result",
          "data": {
            "text/plain": [
              "{'A': 5, 'B': 17, 'C': 26}"
            ]
          },
          "metadata": {},
          "execution_count": 18
        }
      ],
      "source": [
        "# ANSWER\n",
        "class_groups = df.groupby('class_name')\n",
        "highest_scoring_students = {}\n",
        "for class_name, group in class_groups:\n",
        "  highest_marks = group['marks'].max()\n",
        "  highest_scoring_students[class_name] = group[group['marks'] == highest_marks]['student_id'].values[0]\n",
        "highest_scoring_students"
      ]
    },
    {
      "cell_type": "code",
      "source": [
        "highest_scoring = df.groupby('class_name')['marks'].max()\n",
        "print(\"Highest scoring student in each class:\", highest_scoring)"
      ],
      "metadata": {
        "colab": {
          "base_uri": "https://localhost:8080/"
        },
        "id": "0VILcs0jmELi",
        "outputId": "3d0d356f-2cc6-4eb4-9208-ba092810abb8"
      },
      "id": "0VILcs0jmELi",
      "execution_count": null,
      "outputs": [
        {
          "output_type": "stream",
          "name": "stdout",
          "text": [
            "Highest scoring student in each class: class_name\n",
            "A    83.710219\n",
            "B    87.243613\n",
            "C    89.049273\n",
            "Name: marks, dtype: float64\n"
          ]
        }
      ]
    },
    {
      "cell_type": "markdown",
      "id": "f441c571",
      "metadata": {
        "id": "f441c571"
      },
      "source": [
        "#### Q6. Print the index of rows where marks is less than 30"
      ]
    },
    {
      "cell_type": "code",
      "execution_count": null,
      "id": "7811b5fa",
      "metadata": {
        "colab": {
          "base_uri": "https://localhost:8080/"
        },
        "id": "7811b5fa",
        "outputId": "0835a731-df68-41f5-bd2e-10c698ace12f"
      },
      "outputs": [
        {
          "output_type": "stream",
          "name": "stdout",
          "text": [
            "Index of rows with marks less than 30: Int64Index([0, 5, 11, 13, 14, 19, 24, 27, 28, 29], dtype='int64')\n"
          ]
        }
      ],
      "source": [
        "# ANSWER\n",
        "\n",
        "low_marks = df[df['marks'] < 30].index\n",
        "print(\"Index of rows with marks less than 30:\", low_marks)"
      ]
    },
    {
      "cell_type": "markdown",
      "id": "dfd4cef7",
      "metadata": {
        "id": "dfd4cef7"
      },
      "source": [
        "#### Q7. Create a new column named \"marks_squared\" It should have all the marks squared"
      ]
    },
    {
      "cell_type": "code",
      "execution_count": null,
      "id": "6d595345",
      "metadata": {
        "id": "6d595345"
      },
      "outputs": [],
      "source": [
        "# ANSWER\n",
        "df['marks_squared'] = df['marks']**2"
      ]
    },
    {
      "cell_type": "markdown",
      "id": "3c350897",
      "metadata": {
        "id": "3c350897"
      },
      "source": [
        "#### Q8. Create a new column named \"passed\". If marks is above 40 the keep the value as True else False"
      ]
    },
    {
      "cell_type": "code",
      "execution_count": null,
      "id": "7e948c86",
      "metadata": {
        "id": "7e948c86"
      },
      "outputs": [],
      "source": [
        "# ANSWER\n",
        "df['passed'] = df['marks'] > 40"
      ]
    },
    {
      "cell_type": "markdown",
      "id": "2f93b8d5",
      "metadata": {
        "id": "2f93b8d5"
      },
      "source": [
        "#### Q9. Create a new column named \"passed_int\". If passed=True then value is 1 else 0"
      ]
    },
    {
      "cell_type": "code",
      "execution_count": null,
      "id": "21ed3abe",
      "metadata": {
        "id": "21ed3abe"
      },
      "outputs": [],
      "source": [
        "# ANSWER\n",
        "df['passed_int'] = df['passed'].astype(int)"
      ]
    },
    {
      "cell_type": "markdown",
      "id": "401ad16d",
      "metadata": {
        "id": "401ad16d"
      },
      "source": [
        "#### Q10. Calculate the average marks for each class. Store this in a DataFrame named 'clas_avg'"
      ]
    },
    {
      "cell_type": "code",
      "execution_count": null,
      "id": "6b67c7e2",
      "metadata": {
        "id": "6b67c7e2"
      },
      "outputs": [],
      "source": [
        "# ANSWER\n",
        "clas_avg = df.groupby('class_name')['marks'].mean().reset_index()"
      ]
    },
    {
      "cell_type": "markdown",
      "id": "e766f768",
      "metadata": {
        "id": "e766f768"
      },
      "source": [
        "#### Q11. Rename the column containing average marks as  'avg_marks'"
      ]
    },
    {
      "cell_type": "code",
      "execution_count": null,
      "id": "a6a65a60",
      "metadata": {
        "id": "a6a65a60"
      },
      "outputs": [],
      "source": [
        "# ANSWER\n",
        "clas_avg.rename(columns={'marks': 'avg_marks'}, inplace=True)"
      ]
    },
    {
      "cell_type": "markdown",
      "id": "7448def6",
      "metadata": {
        "id": "7448def6"
      },
      "source": [
        "#### Q12. Join/Merge the two dataframes 'df' and 'clas_avg' on the common column 'class_name'. The resulting dataframe should be stored in a new dataframe called 'result'"
      ]
    },
    {
      "cell_type": "code",
      "execution_count": null,
      "id": "5848c906",
      "metadata": {
        "id": "5848c906"
      },
      "outputs": [],
      "source": [
        "# ANSWER\n",
        "result = pd.merge(df, clas_avg, on='class_name')"
      ]
    },
    {
      "cell_type": "markdown",
      "id": "c5cee3ba",
      "metadata": {
        "id": "c5cee3ba"
      },
      "source": [
        "#### Q13. Create a new column 'diff_from_mean' in the dataframe 'result' . This column should store the difference of the students marks from the average class marks in 'avg_marks'."
      ]
    },
    {
      "cell_type": "code",
      "execution_count": null,
      "id": "427277a4",
      "metadata": {
        "id": "427277a4"
      },
      "outputs": [],
      "source": [
        "# ANSWER\n",
        "result['diff_from_mean'] = result['marks'] - result['avg_marks']"
      ]
    },
    {
      "cell_type": "markdown",
      "id": "cc72ae48",
      "metadata": {
        "id": "cc72ae48"
      },
      "source": [
        "#### Q14. Which class has the most number of students with marks greater than 55."
      ]
    },
    {
      "cell_type": "code",
      "execution_count": null,
      "id": "9bc3d677",
      "metadata": {
        "colab": {
          "base_uri": "https://localhost:8080/"
        },
        "id": "9bc3d677",
        "outputId": "6b2c47be-99d9-417d-a726-abb87597c45a"
      },
      "outputs": [
        {
          "output_type": "stream",
          "name": "stdout",
          "text": [
            "Class with most students with marks greater than 55: A\n"
          ]
        }
      ],
      "source": [
        "# ANSWER\n",
        "most_students_high_marks = result[result['marks'] > 55]['class_name'].value_counts().idxmax()\n",
        "print(\"Class with most students with marks greater than 55:\", most_students_high_marks)"
      ]
    },
    {
      "cell_type": "markdown",
      "id": "18996c2e",
      "metadata": {
        "id": "18996c2e"
      },
      "source": [
        "#### Q15. Export the results DataFrame to a csv file. Name the csv file as 'python_1.csv'. Do not save indexes in the csv."
      ]
    },
    {
      "cell_type": "code",
      "execution_count": null,
      "id": "a53155a2",
      "metadata": {
        "id": "a53155a2"
      },
      "outputs": [],
      "source": [
        "# Answer\n",
        "result.to_csv('python_1.csv', index=False)"
      ]
    },
    {
      "cell_type": "markdown",
      "id": "e4fb10e2",
      "metadata": {
        "id": "e4fb10e2"
      },
      "source": [
        "### Thank You."
      ]
    },
    {
      "cell_type": "code",
      "execution_count": null,
      "id": "9a8364da",
      "metadata": {
        "id": "9a8364da"
      },
      "outputs": [],
      "source": []
    }
  ],
  "metadata": {
    "kernelspec": {
      "display_name": "Python 3 (ipykernel)",
      "language": "python",
      "name": "python3"
    },
    "language_info": {
      "codemirror_mode": {
        "name": "ipython",
        "version": 3
      },
      "file_extension": ".py",
      "mimetype": "text/x-python",
      "name": "python",
      "nbconvert_exporter": "python",
      "pygments_lexer": "ipython3",
      "version": "3.8.10"
    },
    "colab": {
      "provenance": [],
      "include_colab_link": true
    }
  },
  "nbformat": 4,
  "nbformat_minor": 5
}